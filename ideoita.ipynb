{
 "cells": [
  {
   "cell_type": "markdown",
   "id": "noticed-possibility",
   "metadata": {},
   "source": [
    "# Ideoita"
   ]
  },
  {
   "cell_type": "markdown",
   "id": "bacterial-regression",
   "metadata": {},
   "source": [
    "- Merkatun numero tilanteittain check\n",
    "- Lyöntityypeistä piirakat tilanteittain (onnistuneet?)\n",
    "- Kaikki etenemiset scatter-plot (runkosarja & runkosarja + pudotuspelit - 12, 23, 3k)\n",
    "- Joukkueiden viikoittainen keskiarvo (runkosarja & runkosarja + pudotuspelit - 12, 23, 3k)\n",
    "- Joukkueiden sovitetut suorat scatteriin (Ketkä nopeutu ketkä hidastu, 12 ehkä, 23 ehkä, 3K!)\n",
    "- KA-etenemiset lukkareittain (runkosarja)\n",
    "- Edellisen pelin vaikutus ka-juoksuaikaan?\n",
    "- Täysien etenemisten jakautuminen joukkueen sisällä (Taulukko jossa näkyy kuinka monesta prosentista etenemisiä kolme eniten juossutta pelaajaa vastaa ja nimetkin vaikka) / kumulatiivinen graph pelaajittain ja prosentit jokaiselle\n",
    "- "
   ]
  },
  {
   "cell_type": "markdown",
   "id": "another-reform",
   "metadata": {},
   "source": [
    "Merkin numero\n",
    "    - Merktun lyönnin numero MSU 2020 & 2021 BAR (1, 2 & 3)\n",
    "    - Merkatun lyönnin numero NSU 2020 & 2021 BAR (1, 2 & 3)\n",
    "    \n",
    "Lyönnin tyyppi\n",
    "    - Onnistuneet vaihdot lyöntityypeittäin MSU 2021 PIE (1, 2 & 3)\n",
    "    - Onnistuneet vaihdot lyöntityypeittäin MSU 2021 PIE (1, 2 & 3)\n",
    "    \n",
    "Etenemiset\n",
    "    - Selite miten ja mitkä ajat mitattu\n",
    "\n",
    "    - Kaikki etenemiset ja fitattu poly koko kausi MSU (1, 2 & 3)\n",
    "    - Kaikki etenemiset ja fitattu poly runkosarja MSU (1, 2 & 3)\n",
    "    - Kaikki etenemiset ja fitattu poly koko kausi NSU (1, 2 & 3)\n",
    "    - Kaikki etenemiset ja fitattu poly runkosarja NSU (1, 2 & 3)\n",
    "    \n",
    "    - Kaikkien joukkueiden fitattu poly samalla graafilla (3. tai 4. asteen) \n",
    "    \n",
    "    - A4 joukkueittain kaikki etenemiset päivittäinen keskiarvo ja fitattu poly MSU (1, 2 & 3)\n",
    "    - A4 joukkueittain kaikki etenemiset päivittäinen keskiarvo ja fitattu poly NSU (1, 2 & 3)\n",
    "    \n",
    "    - TOP 5 eniten etenemisiä per pesänväli MSU & NSU\n",
    "    \n",
    "    - Etenemisten jakautuminen joukkueen sisällä joukkueittain MSU & NSU\n",
    "    "
   ]
  }
 ],
 "metadata": {
  "kernelspec": {
   "display_name": "Python 3",
   "language": "python",
   "name": "python3"
  },
  "language_info": {
   "codemirror_mode": {
    "name": "ipython",
    "version": 3
   },
   "file_extension": ".py",
   "mimetype": "text/x-python",
   "name": "python",
   "nbconvert_exporter": "python",
   "pygments_lexer": "ipython3",
   "version": "3.8.8"
  }
 },
 "nbformat": 4,
 "nbformat_minor": 5
}
